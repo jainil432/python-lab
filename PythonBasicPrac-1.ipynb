{
 "cells": [
  {
   "cell_type": "code",
   "execution_count": 1,
   "id": "4b6f412f-43d1-411e-a429-ca78d84b182c",
   "metadata": {},
   "outputs": [
    {
     "data": {
      "text/plain": [
       "9"
      ]
     },
     "execution_count": 1,
     "metadata": {},
     "output_type": "execute_result"
    }
   ],
   "source": [
    "# Adding two numbers \n",
    "4 + 5"
   ]
  },
  {
   "cell_type": "code",
   "execution_count": 5,
   "id": "be380811-2647-406f-9f98-82bd7813e100",
   "metadata": {},
   "outputs": [
    {
     "data": {
      "text/plain": [
       "6"
      ]
     },
     "execution_count": 5,
     "metadata": {},
     "output_type": "execute_result"
    }
   ],
   "source": [
    "# Subtracting two numbers\n",
    "9 - 3"
   ]
  },
  {
   "cell_type": "code",
   "execution_count": 9,
   "id": "2c497cc6-03b3-4c04-a0c9-8826bf46f29f",
   "metadata": {},
   "outputs": [
    {
     "data": {
      "text/plain": [
       "12"
      ]
     },
     "execution_count": 9,
     "metadata": {},
     "output_type": "execute_result"
    }
   ],
   "source": [
    "# Multiply two numbers\n",
    "3*4"
   ]
  },
  {
   "cell_type": "code",
   "execution_count": 13,
   "id": "dc76b1d5-0b75-42ef-87c0-de1c5a3787fe",
   "metadata": {},
   "outputs": [
    {
     "data": {
      "text/plain": [
       "3.0"
      ]
     },
     "execution_count": 13,
     "metadata": {},
     "output_type": "execute_result"
    }
   ],
   "source": [
    "# divide two numbers\n",
    "9/3"
   ]
  },
  {
   "cell_type": "code",
   "execution_count": 21,
   "id": "9e365c30-724f-4ffe-81fe-1a4f963a6245",
   "metadata": {},
   "outputs": [
    {
     "data": {
      "text/plain": [
       "29.0"
      ]
     },
     "execution_count": 21,
     "metadata": {},
     "output_type": "execute_result"
    }
   ],
   "source": [
    "# add , multiply, divide, and subtract two numbers\n",
    "a = 5\n",
    "(a + a*a - a/a)\n",
    "\n"
   ]
  },
  {
   "cell_type": "code",
   "execution_count": 25,
   "id": "6ecdf1c9-dc2b-4b84-978c-7ce538ebee59",
   "metadata": {},
   "outputs": [
    {
     "data": {
      "text/plain": [
       "120"
      ]
     },
     "execution_count": 25,
     "metadata": {},
     "output_type": "execute_result"
    }
   ],
   "source": [
    "# Convert hrs into min\n",
    "hrs = 2\n",
    "min = hrs*60\n",
    "min"
   ]
  },
  {
   "cell_type": "code",
   "execution_count": 27,
   "id": "279a09f7-5f22-4da2-889f-34cc150b46cd",
   "metadata": {},
   "outputs": [
    {
     "data": {
      "text/plain": [
       "15.0"
      ]
     },
     "execution_count": 27,
     "metadata": {},
     "output_type": "execute_result"
    }
   ],
   "source": [
    "# convert min into hrs\n",
    "min = 900\n",
    "hrs = min/60\n",
    "hrs"
   ]
  },
  {
   "cell_type": "code",
   "execution_count": 29,
   "id": "cb92abfb-c736-4d97-8ae2-b78ab3900fa8",
   "metadata": {},
   "outputs": [
    {
     "data": {
      "text/plain": [
       "144"
      ]
     },
     "execution_count": 29,
     "metadata": {},
     "output_type": "execute_result"
    }
   ],
   "source": [
    "#  Convert dollars into Rs. Where 1 $ = 48 Rs\n",
    "dollar = 3\n",
    "ruppees = 48*dollar\n",
    "ruppees"
   ]
  },
  {
   "cell_type": "code",
   "execution_count": 31,
   "id": "cfc0e0f2-d54d-4548-9818-0f122f0e992f",
   "metadata": {},
   "outputs": [
    {
     "data": {
      "text/plain": [
       "1.4375"
      ]
     },
     "execution_count": 31,
     "metadata": {},
     "output_type": "execute_result"
    }
   ],
   "source": [
    "#Convert Rs. into dollars where 1 $ = 48 Rs. \n",
    "ruppees = 69\n",
    "dollar = ruppees/48\n",
    "dollar"
   ]
  },
  {
   "cell_type": "code",
   "execution_count": 33,
   "id": "af3c0ca3-6253-4f2c-a675-91927a543df7",
   "metadata": {},
   "outputs": [
    {
     "data": {
      "text/plain": [
       "205.76131687242798"
      ]
     },
     "execution_count": 33,
     "metadata": {},
     "output_type": "execute_result"
    }
   ],
   "source": [
    "#  Convert dollars into pound where 1 $ = 48 Rs. And 1 pound = 70 Rs. 1 pound = 1.458 dollar\n",
    "dollar = 300\n",
    "pound = dollar/1.458\n",
    "pound"
   ]
  },
  {
   "cell_type": "code",
   "execution_count": 35,
   "id": "60f996da-7fb6-4000-92ba-92f1f721568c",
   "metadata": {},
   "outputs": [
    {
     "data": {
      "text/plain": [
       "20.0"
      ]
     },
     "execution_count": 35,
     "metadata": {},
     "output_type": "execute_result"
    }
   ],
   "source": [
    "#  Convert grams into kg\n",
    "gm = 20000\n",
    "kg = gm/1000\n",
    "kg"
   ]
  },
  {
   "cell_type": "code",
   "execution_count": 37,
   "id": "6ddefcf1-11f2-4b56-bd81-56830bd58720",
   "metadata": {},
   "outputs": [
    {
     "data": {
      "text/plain": [
       "2000"
      ]
     },
     "execution_count": 37,
     "metadata": {},
     "output_type": "execute_result"
    }
   ],
   "source": [
    "# Convert kgs into grams\n",
    "kg = 2\n",
    "gm = kg*1000\n",
    "gm"
   ]
  },
  {
   "cell_type": "code",
   "execution_count": 41,
   "id": "576392db-9101-4d0d-bbf1-945094c927d8",
   "metadata": {},
   "outputs": [
    {
     "data": {
      "text/plain": [
       "10000000000.0"
      ]
     },
     "execution_count": 41,
     "metadata": {},
     "output_type": "execute_result"
    }
   ],
   "source": [
    "# . Convert bytes into KB, MB and GB.\n",
    "byte = 10000000000000000000000\n",
    "kb = byte/1000\n",
    "mb = byte/1000000\n",
    "gb = byte/1000000000000\n",
    "gb"
   ]
  },
  {
   "cell_type": "code",
   "execution_count": 45,
   "id": "11cbe7be-b021-4975-8436-e2ec0809796f",
   "metadata": {},
   "outputs": [
    {
     "data": {
      "text/plain": [
       "-40.0"
      ]
     },
     "execution_count": 45,
     "metadata": {},
     "output_type": "execute_result"
    }
   ],
   "source": [
    "# Convert celcius into Fahrenheit. F = (9/5 * C) + 32 \n",
    "C = -40\n",
    "F = F = (9/5 * C) + 32\n",
    "F"
   ]
  },
  {
   "cell_type": "code",
   "execution_count": 55,
   "id": "6724ebac-df9c-4565-8c4e-4375fd43f420",
   "metadata": {},
   "outputs": [
    {
     "name": "stdout",
     "output_type": "stream",
     "text": [
      "-40.0\n"
     ]
    }
   ],
   "source": [
    "# convert fahrenheit into celcius\n",
    "F = -40\n",
    "C = 5/9 * (F - 32)\n",
    "print(C)\n"
   ]
  },
  {
   "cell_type": "code",
   "execution_count": 59,
   "id": "8aea5a88-32fa-4c73-8e57-e63d582f8bc3",
   "metadata": {},
   "outputs": [
    {
     "data": {
      "text/plain": [
       "300.0"
      ]
     },
     "execution_count": 59,
     "metadata": {},
     "output_type": "execute_result"
    }
   ],
   "source": [
    " # Calculate interest where I = PRN/100. \n",
    "p = 1000\n",
    "r = 3\n",
    "n = 10\n",
    "I = p*r*n/100\n",
    "I"
   ]
  },
  {
   "cell_type": "code",
   "execution_count": 61,
   "id": "cb652498-c5e1-46ac-ac4a-b03078df56cc",
   "metadata": {},
   "outputs": [
    {
     "data": {
      "text/plain": [
       "40"
      ]
     },
     "execution_count": 61,
     "metadata": {},
     "output_type": "execute_result"
    }
   ],
   "source": [
    "# calculate area & perimeter of a square. A = L^2, P = 4L \n",
    "a = 10\n",
    "perimeter = 4*a\n",
    "area = a*a\n",
    "perimeter"
   ]
  },
  {
   "cell_type": "code",
   "execution_count": 63,
   "id": "015cba6a-5158-4d5b-a98c-c30f907eead1",
   "metadata": {},
   "outputs": [
    {
     "data": {
      "text/plain": [
       "100"
      ]
     },
     "execution_count": 63,
     "metadata": {},
     "output_type": "execute_result"
    }
   ],
   "source": [
    "area"
   ]
  },
  {
   "cell_type": "code",
   "execution_count": 67,
   "id": "e76d7291-cb53-4898-8969-531c6501515f",
   "metadata": {},
   "outputs": [
    {
     "data": {
      "text/plain": [
       "60"
      ]
     },
     "execution_count": 67,
     "metadata": {},
     "output_type": "execute_result"
    }
   ],
   "source": [
    "# Calculate area & perimeter of a rectangle. A = L*B, P = 2 (L+B)\n",
    "a = 10\n",
    "b = 20\n",
    "perimeter = 2*(a + b)\n",
    "perimeter"
   ]
  },
  {
   "cell_type": "code",
   "execution_count": 71,
   "id": "cc265484-1a9e-45f0-a07d-3088db0832a9",
   "metadata": {},
   "outputs": [
    {
     "data": {
      "text/plain": [
       "200"
      ]
     },
     "execution_count": 71,
     "metadata": {},
     "output_type": "execute_result"
    }
   ],
   "source": [
    "area = a*b\n",
    "area"
   ]
  },
  {
   "cell_type": "code",
   "execution_count": 73,
   "id": "4b19cf57-6c9f-4c3a-ac00-9504cc4d5837",
   "metadata": {},
   "outputs": [
    {
     "data": {
      "text/plain": [
       "78.5"
      ]
     },
     "execution_count": 73,
     "metadata": {},
     "output_type": "execute_result"
    }
   ],
   "source": [
    "# Calculate area of a circle. A = 22/7 * R * R\n",
    "r = 5\n",
    "area = 3.14*r**2\n",
    "area"
   ]
  },
  {
   "cell_type": "code",
   "execution_count": 75,
   "id": "920a2003-d5ff-4c01-becb-863b7ae8af4e",
   "metadata": {},
   "outputs": [
    {
     "data": {
      "text/plain": [
       "45.0"
      ]
     },
     "execution_count": 75,
     "metadata": {},
     "output_type": "execute_result"
    }
   ],
   "source": [
    "#  Calculate area of a triangle. A = H*L/2 \n",
    "height = 10\n",
    "length = 9\n",
    "ar = height*length/2\n",
    "ar"
   ]
  },
  {
   "cell_type": "code",
   "execution_count": 77,
   "id": "af14bcef-42ad-4787-a301-a7e110a870c8",
   "metadata": {},
   "outputs": [
    {
     "data": {
      "text/plain": [
       "10700.0"
      ]
     },
     "execution_count": 77,
     "metadata": {},
     "output_type": "execute_result"
    }
   ],
   "source": [
    "# Calculate net salary where net salary = gross salary + allowance – deduction.Allowances are 10% while deductions are 3% of gross salary.\n",
    "gs = 10000\n",
    "ded = gs*3/100\n",
    "allo = gs*10/100\n",
    "ns = gs + allo - ded\n",
    "ns\n",
    " \n"
   ]
  },
  {
   "cell_type": "code",
   "execution_count": 79,
   "id": "5fa933ca-7239-46a4-bc76-406098293888",
   "metadata": {},
   "outputs": [
    {
     "data": {
      "text/plain": [
       "1800.0"
      ]
     },
     "execution_count": 79,
     "metadata": {},
     "output_type": "execute_result"
    }
   ],
   "source": [
    "#  Calculate net sales where net sales = gross sales – 10% discount of gross sales.\n",
    "gs = 2000\n",
    "dis = gs*10/100\n",
    "ns = gs - dis\n",
    "ns\n",
    "\n"
   ]
  },
  {
   "cell_type": "code",
   "execution_count": 81,
   "id": "3e1acd72-2442-4b22-af6e-40be82093f46",
   "metadata": {},
   "outputs": [
    {
     "data": {
      "text/plain": [
       "241"
      ]
     },
     "execution_count": 81,
     "metadata": {},
     "output_type": "execute_result"
    }
   ],
   "source": [
    "#  Calculate average of three subjects along with their total. \n",
    "maths = 93\n",
    "EEE = 80\n",
    "computer = 68\n",
    "total = maths + EEE + computer\n",
    "avg = total/3\n",
    "total"
   ]
  },
  {
   "cell_type": "code",
   "execution_count": 83,
   "id": "06082f49-f4f9-44b2-b511-b78ce68f856a",
   "metadata": {},
   "outputs": [
    {
     "data": {
      "text/plain": [
       "80.33333333333333"
      ]
     },
     "execution_count": 83,
     "metadata": {},
     "output_type": "execute_result"
    }
   ],
   "source": [
    "avg"
   ]
  },
  {
   "cell_type": "code",
   "execution_count": 85,
   "id": "80e9802a-e80d-447a-9d18-6b3681ddab97",
   "metadata": {},
   "outputs": [
    {
     "data": {
      "text/plain": [
       "9"
      ]
     },
     "execution_count": 85,
     "metadata": {},
     "output_type": "execute_result"
    }
   ],
   "source": [
    "# Swap two values.\n",
    "a = 5\n",
    "b = 9\n",
    "temp = a # temp = 5\n",
    "a = b # a = 9\n",
    "b = temp # b = 5\n",
    "a\n"
   ]
  },
  {
   "cell_type": "code",
   "execution_count": 87,
   "id": "e6ff430c-0e02-41bd-aa83-b1f96e2a38d4",
   "metadata": {},
   "outputs": [
    {
     "data": {
      "text/plain": [
       "5"
      ]
     },
     "execution_count": 87,
     "metadata": {},
     "output_type": "execute_result"
    }
   ],
   "source": [
    "b"
   ]
  },
  {
   "cell_type": "code",
   "execution_count": null,
   "id": "bc55a69c-a1d8-4b70-bedb-f17bd15d163e",
   "metadata": {},
   "outputs": [],
   "source": []
  }
 ],
 "metadata": {
  "kernelspec": {
   "display_name": "Python [conda env:base] *",
   "language": "python",
   "name": "conda-base-py"
  },
  "language_info": {
   "codemirror_mode": {
    "name": "ipython",
    "version": 3
   },
   "file_extension": ".py",
   "mimetype": "text/x-python",
   "name": "python",
   "nbconvert_exporter": "python",
   "pygments_lexer": "ipython3",
   "version": "3.12.7"
  }
 },
 "nbformat": 4,
 "nbformat_minor": 5
}
